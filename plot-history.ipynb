{
 "cells": [
  {
   "cell_type": "markdown",
   "metadata": {},
   "source": [
    "Plot training history"
   ]
  },
  {
   "cell_type": "code",
   "execution_count": 14,
   "metadata": {},
   "outputs": [],
   "source": [
    "import os\n",
    "import numpy as np\n",
    "import pandas as pd\n",
    "import tensorflow as tf"
   ]
  },
  {
   "cell_type": "code",
   "execution_count": 7,
   "metadata": {},
   "outputs": [],
   "source": [
    "df_efnB5_cl = pd.read_json('./trained/training_hist.json')"
   ]
  },
  {
   "cell_type": "code",
   "execution_count": 8,
   "metadata": {},
   "outputs": [
    {
     "data": {
      "text/html": [
       "<div>\n",
       "<style scoped>\n",
       "    .dataframe tbody tr th:only-of-type {\n",
       "        vertical-align: middle;\n",
       "    }\n",
       "\n",
       "    .dataframe tbody tr th {\n",
       "        vertical-align: top;\n",
       "    }\n",
       "\n",
       "    .dataframe thead th {\n",
       "        text-align: right;\n",
       "    }\n",
       "</style>\n",
       "<table border=\"1\" class=\"dataframe\">\n",
       "  <thead>\n",
       "    <tr style=\"text-align: right;\">\n",
       "      <th></th>\n",
       "      <th>loss</th>\n",
       "      <th>accuracy</th>\n",
       "      <th>val_loss</th>\n",
       "      <th>val_accuracy</th>\n",
       "    </tr>\n",
       "  </thead>\n",
       "  <tbody>\n",
       "    <tr>\n",
       "      <th>0</th>\n",
       "      <td>9.217854</td>\n",
       "      <td>0.004599</td>\n",
       "      <td>9.084522</td>\n",
       "      <td>0.010365</td>\n",
       "    </tr>\n",
       "    <tr>\n",
       "      <th>1</th>\n",
       "      <td>8.558840</td>\n",
       "      <td>0.016423</td>\n",
       "      <td>8.869617</td>\n",
       "      <td>0.022336</td>\n",
       "    </tr>\n",
       "    <tr>\n",
       "      <th>2</th>\n",
       "      <td>7.996283</td>\n",
       "      <td>0.032883</td>\n",
       "      <td>8.926121</td>\n",
       "      <td>0.038686</td>\n",
       "    </tr>\n",
       "    <tr>\n",
       "      <th>3</th>\n",
       "      <td>7.401720</td>\n",
       "      <td>0.054197</td>\n",
       "      <td>8.839908</td>\n",
       "      <td>0.053139</td>\n",
       "    </tr>\n",
       "    <tr>\n",
       "      <th>4</th>\n",
       "      <td>6.908028</td>\n",
       "      <td>0.078869</td>\n",
       "      <td>8.998974</td>\n",
       "      <td>0.077810</td>\n",
       "    </tr>\n",
       "    <tr>\n",
       "      <th>5</th>\n",
       "      <td>6.423933</td>\n",
       "      <td>0.107409</td>\n",
       "      <td>9.324232</td>\n",
       "      <td>0.094453</td>\n",
       "    </tr>\n",
       "    <tr>\n",
       "      <th>6</th>\n",
       "      <td>5.979945</td>\n",
       "      <td>0.135255</td>\n",
       "      <td>9.332210</td>\n",
       "      <td>0.113577</td>\n",
       "    </tr>\n",
       "    <tr>\n",
       "      <th>7</th>\n",
       "      <td>5.563656</td>\n",
       "      <td>0.168942</td>\n",
       "      <td>9.741760</td>\n",
       "      <td>0.133869</td>\n",
       "    </tr>\n",
       "    <tr>\n",
       "      <th>8</th>\n",
       "      <td>5.169574</td>\n",
       "      <td>0.197993</td>\n",
       "      <td>11.025107</td>\n",
       "      <td>0.132701</td>\n",
       "    </tr>\n",
       "    <tr>\n",
       "      <th>9</th>\n",
       "      <td>4.801291</td>\n",
       "      <td>0.229745</td>\n",
       "      <td>10.173285</td>\n",
       "      <td>0.173285</td>\n",
       "    </tr>\n",
       "    <tr>\n",
       "      <th>10</th>\n",
       "      <td>4.415999</td>\n",
       "      <td>0.267226</td>\n",
       "      <td>10.960831</td>\n",
       "      <td>0.191095</td>\n",
       "    </tr>\n",
       "    <tr>\n",
       "      <th>11</th>\n",
       "      <td>4.005219</td>\n",
       "      <td>0.304781</td>\n",
       "      <td>11.298694</td>\n",
       "      <td>0.201606</td>\n",
       "    </tr>\n",
       "    <tr>\n",
       "      <th>12</th>\n",
       "      <td>3.581514</td>\n",
       "      <td>0.352701</td>\n",
       "      <td>12.482990</td>\n",
       "      <td>0.208321</td>\n",
       "    </tr>\n",
       "    <tr>\n",
       "      <th>13</th>\n",
       "      <td>3.154864</td>\n",
       "      <td>0.399161</td>\n",
       "      <td>12.360624</td>\n",
       "      <td>0.181022</td>\n",
       "    </tr>\n",
       "    <tr>\n",
       "      <th>14</th>\n",
       "      <td>2.726457</td>\n",
       "      <td>0.452847</td>\n",
       "      <td>12.802073</td>\n",
       "      <td>0.243942</td>\n",
       "    </tr>\n",
       "    <tr>\n",
       "      <th>15</th>\n",
       "      <td>2.348539</td>\n",
       "      <td>0.504927</td>\n",
       "      <td>13.500225</td>\n",
       "      <td>0.245547</td>\n",
       "    </tr>\n",
       "    <tr>\n",
       "      <th>16</th>\n",
       "      <td>2.006169</td>\n",
       "      <td>0.552372</td>\n",
       "      <td>14.098961</td>\n",
       "      <td>0.277080</td>\n",
       "    </tr>\n",
       "    <tr>\n",
       "      <th>17</th>\n",
       "      <td>1.713178</td>\n",
       "      <td>0.600037</td>\n",
       "      <td>14.278118</td>\n",
       "      <td>0.282190</td>\n",
       "    </tr>\n",
       "    <tr>\n",
       "      <th>18</th>\n",
       "      <td>1.510130</td>\n",
       "      <td>0.634854</td>\n",
       "      <td>14.604015</td>\n",
       "      <td>0.276058</td>\n",
       "    </tr>\n",
       "    <tr>\n",
       "      <th>19</th>\n",
       "      <td>1.330956</td>\n",
       "      <td>0.671022</td>\n",
       "      <td>13.797311</td>\n",
       "      <td>0.307737</td>\n",
       "    </tr>\n",
       "  </tbody>\n",
       "</table>\n",
       "</div>"
      ],
      "text/plain": [
       "        loss  accuracy   val_loss  val_accuracy\n",
       "0   9.217854  0.004599   9.084522      0.010365\n",
       "1   8.558840  0.016423   8.869617      0.022336\n",
       "2   7.996283  0.032883   8.926121      0.038686\n",
       "3   7.401720  0.054197   8.839908      0.053139\n",
       "4   6.908028  0.078869   8.998974      0.077810\n",
       "5   6.423933  0.107409   9.324232      0.094453\n",
       "6   5.979945  0.135255   9.332210      0.113577\n",
       "7   5.563656  0.168942   9.741760      0.133869\n",
       "8   5.169574  0.197993  11.025107      0.132701\n",
       "9   4.801291  0.229745  10.173285      0.173285\n",
       "10  4.415999  0.267226  10.960831      0.191095\n",
       "11  4.005219  0.304781  11.298694      0.201606\n",
       "12  3.581514  0.352701  12.482990      0.208321\n",
       "13  3.154864  0.399161  12.360624      0.181022\n",
       "14  2.726457  0.452847  12.802073      0.243942\n",
       "15  2.348539  0.504927  13.500225      0.245547\n",
       "16  2.006169  0.552372  14.098961      0.277080\n",
       "17  1.713178  0.600037  14.278118      0.282190\n",
       "18  1.510130  0.634854  14.604015      0.276058\n",
       "19  1.330956  0.671022  13.797311      0.307737"
      ]
     },
     "execution_count": 8,
     "metadata": {},
     "output_type": "execute_result"
    }
   ],
   "source": [
    "df_efnB5_cl.head(20)"
   ]
  },
  {
   "cell_type": "code",
   "execution_count": 12,
   "metadata": {},
   "outputs": [
    {
     "data": {
      "image/png": "[encoded data removed]",
      "text/plain": [
       "<Figure size 432x288 with 1 Axes>"
      ]
     },
     "metadata": {
      "needs_background": "light"
     },
     "output_type": "display_data"
    },
    {
     "data": {
      "image/png": "[encoded data removed]",
      "text/plain": [
       "<Figure size 432x288 with 1 Axes>"
      ]
     },
     "metadata": {
      "needs_background": "light"
     },
     "output_type": "display_data"
    }
   ],
   "source": [
    "acc_plot = df_efnB5_cl[['accuracy','val_accuracy']].plot(title='EfficientNet-B5 - accuracy')\n",
    "loss_plot = df_efnB5_cl[['loss','val_loss']].plot(title='EfficientNet-B5 - loss')"
   ]
  },
  {
   "cell_type": "code",
   "execution_count": 15,
   "metadata": {},
   "outputs": [],
   "source": [
    "efnB5_cl_h5 = tf.keras.models.load_model('./trained/my_model_h5.h5')"
   ]
  },
  {
   "cell_type": "code",
   "execution_count": 16,
   "metadata": {},
   "outputs": [
    {
     "name": "stdout",
     "output_type": "stream",
     "text": [
      "Model: \"model\"\n",
      "_________________________________________________________________\n",
      "Layer (type)                 Output Shape              Param #   \n",
      "=================================================================\n",
      "input_1 (InputLayer)         [(None, 224, 224, 3)]     0         \n",
      "_________________________________________________________________\n",
      "efficientnetb5 (Functional)  (None, None, None, 2048)  28513527  \n",
      "_________________________________________________________________\n",
      "global_average_pooling2d (Gl (None, 2048)              0         \n",
      "_________________________________________________________________\n",
      "batch_normalization (BatchNo (None, 2048)              8192      \n",
      "_________________________________________________________________\n",
      "dense (Dense)                (None, 1024)              2098176   \n",
      "_________________________________________________________________\n",
      "batch_normalization_1 (Batch (None, 1024)              4096      \n",
      "_________________________________________________________________\n",
      "dense_1 (Dense)              (None, 1024)              1049600   \n",
      "_________________________________________________________________\n",
      "dropout (Dropout)            (None, 1024)              0         \n",
      "_________________________________________________________________\n",
      "dense_2 (Dense)              (None, 1024)              1049600   \n",
      "_________________________________________________________________\n",
      "dense_3 (Dense)              (None, 11014)             11289350  \n",
      "=================================================================\n",
      "Total params: 44,012,541\n",
      "Trainable params: 43,833,654\n",
      "Non-trainable params: 178,887\n",
      "_________________________________________________________________\n"
     ]
    }
   ],
   "source": [
    "efnB5_cl_h5.summary()"
   ]
  },
  {
   "cell_type": "code",
   "execution_count": null,
   "metadata": {},
   "outputs": [],
   "source": []
  }
 ],
 "metadata": {
  "kernelspec": {
   "display_name": "Python 3",
   "language": "python",
   "name": "python3"
  },
  "language_info": {
   "codemirror_mode": {
    "name": "ipython",
    "version": 3
   },
   "file_extension": ".py",
   "mimetype": "text/x-python",
   "name": "python",
   "nbconvert_exporter": "python",
   "pygments_lexer": "ipython3",
   "version": "3.8.3"
  }
 },
 "nbformat": 4,
 "nbformat_minor": 4
}
