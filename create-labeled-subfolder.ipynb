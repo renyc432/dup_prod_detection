{
 "cells": [
  {
   "cell_type": "code",
   "execution_count": null,
   "metadata": {},
   "outputs": [],
   "source": [
    "import shutil, os\n",
    "import pandas as pd\n",
    "\n",
    "labels = pd.read_csv(\"train.csv\")\n",
    "labels = labels.sort_values('Class')\n",
    "\n",
    "class_names = list(labels.Class.unique())\n",
    "\n",
    "train_images = '/train'\n",
    "train_cat = '/train_'"
   ]
  },
  {
   "cell_type": "code",
   "execution_count": null,
   "metadata": {},
   "outputs": [],
   "source": [
    "for i in class_names:\n",
    "    path = os.path.join('train_', i)\n",
    "    if not os.path.exists(tpath)\n",
    "        os.makedirs(path)\n",
    "\n",
    "#moving the image files to their respective categories\n",
    "for c in class_names: # Category Name\n",
    "    for i in list(labels[labels['Class']==c]['Image']): # Image Id\n",
    "        get_image = os.path.join('train', i) # Path to Images \n",
    "        move_image_to_cat = shutil.move(get_image, 'train_/'+c)"
   ]
  }
 ],
 "metadata": {
  "kernelspec": {
   "display_name": "Python 3",
   "language": "python",
   "name": "python3"
  },
  "language_info": {
   "codemirror_mode": {
    "name": "ipython",
    "version": 3
   },
   "file_extension": ".py",
   "mimetype": "text/x-python",
   "name": "python",
   "nbconvert_exporter": "python",
   "pygments_lexer": "ipython3",
   "version": "3.8.3"
  }
 },
 "nbformat": 4,
 "nbformat_minor": 4
}
