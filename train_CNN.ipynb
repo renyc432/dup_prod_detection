{
 "cells": [
  {
   "cell_type": "markdown",
   "metadata": {},
   "source": [
    "# CNN Training\n",
    "\n",
    "This notebook builds and trains a basic CNN model."
   ]
  },
  {
   "cell_type": "code",
   "execution_count": 1,
   "metadata": {},
   "outputs": [],
   "source": [
    "import os\n",
    "import numpy as np\n",
    "import pandas as pd\n",
    "from datetime import datetime\n",
    "\n",
    "import tensorflow as tf\n",
    "from tensorflow.keras.applications import EfficientNetB0, EfficientNetB5, EfficientNetB7, VGG19\n",
    "from tensorflow.keras.applications.efficientnet import decode_predictions\n",
    "\n",
    "from tensorflow.keras import optimizers\n",
    "from tensorflow.keras.models import Sequential, Model\n",
    "from tensorflow.keras.layers import Dropout, Flatten, Dense, GlobalAveragePooling2D, Softmax, BatchNormalization, Input\n",
    "from tensorflow.keras.callbacks import ModelCheckpoint, LearningRateScheduler, TensorBoard, EarlyStopping, LambdaCallback\n",
    "from tensorflow.keras.layers.experimental import preprocessing\n",
    "from tensorflow.keras.optimizers import schedules\n",
    "\n",
    "from sklearn.model_selection import train_test_split\n",
    "from sklearn.neighbors import NearestNeighbors\n",
    "\n",
    "import util"
   ]
  },
  {
   "cell_type": "code",
   "execution_count": 2,
   "metadata": {},
   "outputs": [
    {
     "data": {
      "text/plain": [
       "[PhysicalDevice(name='/physical_device:GPU:0', device_type='GPU')]"
      ]
     },
     "execution_count": 2,
     "metadata": {},
     "output_type": "execute_result"
    }
   ],
   "source": [
    "tf.config.list_physical_devices('GPU')"
   ]
  },
  {
   "cell_type": "code",
   "execution_count": 3,
   "metadata": {},
   "outputs": [],
   "source": [
    "train_img_dir='../../data/train_images'\n",
    "test_img_dir='../../data/test_images/images'\n",
    "train_csv_path = '../../data/train.csv'\n",
    "test_csv_path = '../../data/test.csv'"
   ]
  },
  {
   "cell_type": "code",
   "execution_count": 4,
   "metadata": {},
   "outputs": [],
   "source": [
    "train = pd.read_csv(train_csv_path)\n",
    "test = pd.read_csv(test_csv_path)"
   ]
  },
  {
   "cell_type": "code",
   "execution_count": 5,
   "metadata": {},
   "outputs": [],
   "source": [
    "tmp = train.groupby(['label_group'])['posting_id'].unique().to_dict()\n",
    "train['matches'] = train['label_group'].map(tmp)\n",
    "train['matches'] = train['matches'].apply(lambda x: ' '.join(x))"
   ]
  },
  {
   "cell_type": "code",
   "execution_count": 6,
   "metadata": {},
   "outputs": [
    {
     "data": {
      "text/plain": [
       "34250"
      ]
     },
     "execution_count": 6,
     "metadata": {},
     "output_type": "execute_result"
    }
   ],
   "source": [
    "len(train)"
   ]
  },
  {
   "cell_type": "code",
   "execution_count": 7,
   "metadata": {},
   "outputs": [],
   "source": [
    "epochs = 40\n",
    "batch_size = 8\n",
    "img_width = 224\n",
    "img_height = 224"
   ]
  },
  {
   "cell_type": "code",
   "execution_count": 8,
   "metadata": {},
   "outputs": [],
   "source": [
    "train_size = 34250"
   ]
  },
  {
   "cell_type": "code",
   "execution_count": 9,
   "metadata": {},
   "outputs": [
    {
     "name": "stdout",
     "output_type": "stream",
     "text": [
      "0:05:02.007787\n"
     ]
    }
   ],
   "source": [
    "# 0:20:00 to load 224*34250\n",
    "start = datetime.now()\n",
    "X_train = util.load_img_RGB(train_img_dir,train.image[:train_size], img_width, img_height)\n",
    "X_train /= 255\n",
    "print(datetime.now()-start)"
   ]
  },
  {
   "cell_type": "code",
   "execution_count": 49,
   "metadata": {},
   "outputs": [
    {
     "name": "stdout",
     "output_type": "stream",
     "text": [
      "The history saving thread hit an unexpected error (OperationalError('disk I/O error')).History will not be written to the database.\n"
     ]
    }
   ],
   "source": [
    "y_train = np.array(train.label_group[:train_size])\n",
    "y_train, label_encoder = util.prepare_labels(y_train)"
   ]
  },
  {
   "cell_type": "code",
   "execution_count": 50,
   "metadata": {},
   "outputs": [],
   "source": [
    "num_class = np.unique(train.label_group[:train_size]).size"
   ]
  },
  {
   "cell_type": "code",
   "execution_count": 14,
   "metadata": {},
   "outputs": [],
   "source": [
    "X_train, X_val, y_train, y_val = train_test_split(X_train,y_train,test_size=0.2, random_state=3162)"
   ]
  },
  {
   "cell_type": "code",
   "execution_count": 15,
   "metadata": {},
   "outputs": [],
   "source": [
    "def tf_dataset(images,labels,mode):\n",
    "    ds = tf.data.Dataset.from_tensor_slices((images,labels))\n",
    "    if mode == 'train':\n",
    "        ds = ds.shuffle(2000)\n",
    "    ds = ds.batch(batch_size)\n",
    "    ds = ds.prefetch(tf.data.experimental.AUTOTUNE)\n",
    "    return ds"
   ]
  },
  {
   "cell_type": "code",
   "execution_count": 16,
   "metadata": {},
   "outputs": [],
   "source": [
    "ds_train = tf_dataset(X_train,y_train,'train')\n",
    "ds_val = tf_dataset(X_val,y_val,'validation')"
   ]
  },
  {
   "cell_type": "markdown",
   "metadata": {},
   "source": [
    "-------"
   ]
  },
  {
   "cell_type": "code",
   "execution_count": 16,
   "metadata": {},
   "outputs": [],
   "source": [
    "input_layer = tf.keras.layers.Input(shape = (img_width,img_height, 3))\n",
    "x = EfficientNetB5(include_top = False, weights = 'imagenet')(input_layer)\n",
    "x = tf.keras.layers.GlobalAveragePooling2D()(x)\n",
    "#x = tf.keras.layers.Flatten()(x)\n",
    "x = tf.keras.layers.BatchNormalization()(x)\n",
    "x = tf.keras.layers.Dense(1024, activation = 'relu')(x)\n",
    "x = tf.keras.layers.BatchNormalization()(x)\n",
    "x = tf.keras.layers.Dense(1024, activation = 'relu')(x)\n",
    "x = tf.keras.layers.Dropout(0.5)(x)\n",
    "x = tf.keras.layers.Dense(1024, activation = 'relu')(x)\n",
    "output = tf.keras.layers.Dense(num_class, activation = 'softmax')(x)\n",
    "model = tf.keras.models.Model(inputs = [input_layer], outputs = [output])"
   ]
  },
  {
   "cell_type": "code",
   "execution_count": 18,
   "metadata": {},
   "outputs": [],
   "source": [
    "adam = optimizers.Adam(0.0001)\n",
    "model.compile(loss = \"categorical_crossentropy\", \n",
    "               optimizer = adam, \n",
    "               metrics=[\"accuracy\"])"
   ]
  },
  {
   "cell_type": "code",
   "execution_count": 19,
   "metadata": {},
   "outputs": [],
   "source": [
    "scheduler_exp = schedules.ExponentialDecay(0.0001, decay_steps=100000, decay_rate=1e-6)\n",
    "adam = optimizers.Adam(scheduler_exp,clipnorm=0.1)"
   ]
  },
  {
   "cell_type": "code",
   "execution_count": 21,
   "metadata": {},
   "outputs": [],
   "source": [
    "print_weights = LambdaCallback(on_epoch_begin=lambda batch, logs: print(model.layers[7].get_weights()))"
   ]
  },
  {
   "cell_type": "code",
   "execution_count": 22,
   "metadata": {},
   "outputs": [],
   "source": [
    "callbacks = [EarlyStopping(patience=20,restore_best_weights=True)]\n",
    "#             print_weights]"
   ]
  },
  {
   "cell_type": "code",
   "execution_count": 23,
   "metadata": {},
   "outputs": [],
   "source": [
    "epochs=40"
   ]
  },
  {
   "cell_type": "code",
   "execution_count": 24,
   "metadata": {},
   "outputs": [
    {
     "name": "stdout",
     "output_type": "stream",
     "text": [
      "Epoch 1/40\n",
      "3425/3425 [==============================] - 699s 177ms/step - loss: 9.2179 - accuracy: 0.0046 - val_loss: 9.0845 - val_accuracy: 0.0104\n",
      "Epoch 2/40\n",
      "3425/3425 [==============================] - 603s 176ms/step - loss: 8.5588 - accuracy: 0.0164 - val_loss: 8.8696 - val_accuracy: 0.0223\n",
      "Epoch 3/40\n",
      "3425/3425 [==============================] - 604s 176ms/step - loss: 7.9963 - accuracy: 0.0329 - val_loss: 8.9261 - val_accuracy: 0.0387\n",
      "Epoch 4/40\n",
      "3425/3425 [==============================] - 603s 176ms/step - loss: 7.4017 - accuracy: 0.0542 - val_loss: 8.8399 - val_accuracy: 0.0531\n",
      "Epoch 5/40\n",
      "3425/3425 [==============================] - 602s 176ms/step - loss: 6.9080 - accuracy: 0.0789 - val_loss: 8.9990 - val_accuracy: 0.0778\n",
      "Epoch 6/40\n",
      "3425/3425 [==============================] - 603s 176ms/step - loss: 6.4239 - accuracy: 0.1074 - val_loss: 9.3242 - val_accuracy: 0.0945\n",
      "Epoch 7/40\n",
      "3425/3425 [==============================] - 603s 176ms/step - loss: 5.9799 - accuracy: 0.1353 - val_loss: 9.3322 - val_accuracy: 0.1136\n",
      "Epoch 8/40\n",
      "3425/3425 [==============================] - 603s 176ms/step - loss: 5.5637 - accuracy: 0.1689 - val_loss: 9.7418 - val_accuracy: 0.1339\n",
      "Epoch 9/40\n",
      "3425/3425 [==============================] - 605s 176ms/step - loss: 5.1696 - accuracy: 0.1980 - val_loss: 11.0251 - val_accuracy: 0.1327\n",
      "Epoch 10/40\n",
      "3425/3425 [==============================] - 603s 176ms/step - loss: 4.8013 - accuracy: 0.2297 - val_loss: 10.1733 - val_accuracy: 0.1733\n",
      "Epoch 11/40\n",
      "3425/3425 [==============================] - 603s 176ms/step - loss: 4.4160 - accuracy: 0.2672 - val_loss: 10.9608 - val_accuracy: 0.1911\n",
      "Epoch 12/40\n",
      "3425/3425 [==============================] - 604s 176ms/step - loss: 4.0052 - accuracy: 0.3048 - val_loss: 11.2987 - val_accuracy: 0.2016\n",
      "Epoch 13/40\n",
      "3425/3425 [==============================] - 604s 176ms/step - loss: 3.5815 - accuracy: 0.3527 - val_loss: 12.4830 - val_accuracy: 0.2083\n",
      "Epoch 14/40\n",
      "3425/3425 [==============================] - 597s 174ms/step - loss: 3.1549 - accuracy: 0.3992 - val_loss: 12.3606 - val_accuracy: 0.1810\n",
      "Epoch 15/40\n",
      "3425/3425 [==============================] - 601s 175ms/step - loss: 2.7265 - accuracy: 0.4528 - val_loss: 12.8021 - val_accuracy: 0.2439\n",
      "Epoch 16/40\n",
      "3425/3425 [==============================] - 601s 175ms/step - loss: 2.3485 - accuracy: 0.5049 - val_loss: 13.5002 - val_accuracy: 0.2455\n",
      "Epoch 17/40\n",
      "3425/3425 [==============================] - 599s 175ms/step - loss: 2.0062 - accuracy: 0.5524 - val_loss: 14.0990 - val_accuracy: 0.2771\n",
      "Epoch 18/40\n",
      "3425/3425 [==============================] - 600s 175ms/step - loss: 1.7132 - accuracy: 0.6000 - val_loss: 14.2781 - val_accuracy: 0.2822\n",
      "Epoch 19/40\n",
      "3425/3425 [==============================] - 599s 175ms/step - loss: 1.5101 - accuracy: 0.6349 - val_loss: 14.6040 - val_accuracy: 0.2761\n",
      "Epoch 20/40\n",
      "3425/3425 [==============================] - 603s 176ms/step - loss: 1.3310 - accuracy: 0.6710 - val_loss: 13.7973 - val_accuracy: 0.3077\n",
      "Epoch 21/40\n",
      "3425/3425 [==============================] - 601s 175ms/step - loss: 1.1981 - accuracy: 0.6944 - val_loss: 14.1608 - val_accuracy: 0.2660\n",
      "Epoch 22/40\n",
      "3425/3425 [==============================] - 602s 175ms/step - loss: 1.0874 - accuracy: 0.7160 - val_loss: 14.0337 - val_accuracy: 0.3169\n",
      "Epoch 23/40\n",
      "3425/3425 [==============================] - 601s 175ms/step - loss: 0.9997 - accuracy: 0.7361 - val_loss: 13.4236 - val_accuracy: 0.3566\n",
      "Epoch 24/40\n",
      "3425/3425 [==============================] - 601s 175ms/step - loss: 0.9294 - accuracy: 0.7511 - val_loss: 13.3457 - val_accuracy: 0.2927\n",
      "4:08:58.064083\n"
     ]
    }
   ],
   "source": [
    "start = datetime.now()\n",
    "history = model.fit(ds_train, \n",
    "                    batch_size=batch_size, epochs=epochs,\n",
    "                    verbose=1,\n",
    "                    shuffle=True, validation_data=ds_val,\n",
    "                    callbacks=callbacks)\n",
    "print(datetime.now()-start)"
   ]
  },
  {
   "cell_type": "code",
   "execution_count": 30,
   "metadata": {},
   "outputs": [
    {
     "name": "stderr",
     "output_type": "stream",
     "text": [
      "/home/renyc/Anaconda/anaconda3/envs/python3.8.3/lib/python3.8/site-packages/tensorflow/python/keras/utils/generic_utils.py:494: CustomMaskWarning: Custom mask layers require a config and must override get_config. When loading, the custom mask layer must be passed to the custom_objects argument.\n",
      "  warnings.warn('Custom mask layers require a config and must override '\n"
     ]
    }
   ],
   "source": [
    "model.save('./trained/my_model_h5.h5')"
   ]
  },
  {
   "cell_type": "code",
   "execution_count": 26,
   "metadata": {},
   "outputs": [],
   "source": [
    "hist_df = pd.DataFrame(history.history)\n",
    "hist_df.to_json('./trained/training_hist.json')"
   ]
  }
 ],
 "metadata": {
  "kernelspec": {
   "display_name": "Python 3",
   "language": "python",
   "name": "python3"
  },
  "language_info": {
   "codemirror_mode": {
    "name": "ipython",
    "version": 3
   },
   "file_extension": ".py",
   "mimetype": "text/x-python",
   "name": "python",
   "nbconvert_exporter": "python",
   "pygments_lexer": "ipython3",
   "version": "3.8.3"
  }
 },
 "nbformat": 4,
 "nbformat_minor": 4
}
